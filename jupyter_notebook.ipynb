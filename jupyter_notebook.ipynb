
# My Jupyter Notebook
**Samuel Chenot**
*I am interested in data science because I currently work in manufacturing and would like to use data modeling techniques to streamline quality processes.*
### The following code adds the numbers 1 and 1 together to produce 2

1 + 1

- Here
    - Here
***
1. Here
2. Here

