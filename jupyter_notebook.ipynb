# %% [markdown]
# <center>
#     <img src="https://s3-api.us-geo.objectstorage.softlayer.net/cf-courses-data/CognitiveClass/Logos/organization_logo/organization_logo.png" width="300" alt="cognitiveclass.ai logo"  />
# </center>
# 

# %% [markdown]
# #### Add your code below following the instructions given in the course
# 

# %% [markdown]
# # My Jupyter Notebook

# %% [markdown]
# **Samuel Chenot**

# %% [markdown]
# *I am interested in data science because I currently work in manufacturing and would like to use data modeling techniques to streamline quality processes.*

# %% [markdown]
# ### The following code adds the numbers 1 and 1 together to produce 2

# %%
1 + 1

# %% [markdown]
# - Here
#     - Here
# ***
# 1. Here
# 2. Here
# 
# 
